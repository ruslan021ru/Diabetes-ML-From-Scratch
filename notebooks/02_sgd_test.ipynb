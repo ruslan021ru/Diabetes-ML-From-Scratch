{
 "cells": [
  {
   "cell_type": "markdown",
   "id": "1338a0e4-cb03-4659-a7d9-bc20d5c3c4fc",
   "metadata": {},
   "source": [
    "### Импорт"
   ]
  },
  {
   "cell_type": "code",
   "execution_count": 5,
   "id": "82d22c0a-2633-4c26-b3f2-05c3b8e72a36",
   "metadata": {},
   "outputs": [],
   "source": [
    "# импортируем библиотеки\n",
    "import pandas as pd\n",
    "import numpy as np\n",
    "import matplotlib.pyplot as plt\n",
    "import seaborn as sns"
   ]
  },
  {
   "cell_type": "code",
   "execution_count": 6,
   "id": "c4cca1be-2e9d-42f1-9c21-9ebd5ad272d4",
   "metadata": {},
   "outputs": [],
   "source": [
    "# импортируем данные\n",
    "df = pd.read_csv(r\"C:\\Users\\allek\\OneDrive\\Рабочий стол\\summer_train\\train_data.csv\")"
   ]
  },
  {
   "cell_type": "code",
   "execution_count": 7,
   "id": "3d39786d-2ba7-452f-bd15-55d5a8fe08f7",
   "metadata": {},
   "outputs": [],
   "source": [
    "# df = pd.read_csv(r\"C:\\Users\\allek\\OneDrive\\Рабочий стол\\summer_train\\git_project\\Diabetes-ML-From-Scratch\\raw_data\\diabetes.csv\")"
   ]
  },
  {
   "cell_type": "markdown",
   "id": "ac998ee7-f63e-4d60-bda4-b3f216610b82",
   "metadata": {},
   "source": [
    "### Осмотр данных"
   ]
  },
  {
   "cell_type": "code",
   "execution_count": 8,
   "id": "619a00e1-a759-4ea6-bdd9-b115d2411ce6",
   "metadata": {},
   "outputs": [],
   "source": [
    "# df['Glucose'] = np.where(df['Glucose'] == 0, df['Glucose'].mean(), df['Glucose'])\n",
    "# df['BloodPressure'] = np.where(df['BloodPressure'] == 0, df['BloodPressure'].mean(), df['BloodPressure'])\n",
    "# df['SkinThickness'] = np.where(df['SkinThickness'] == 0, df['SkinThickness'].mean(), df['SkinThickness'])\n",
    "# df['Insulin'] = np.where(df['Insulin'] == 0, df['Insulin'].mean(), df['Insulin'])\n",
    "# df['BMI'] = np.where(df['BMI'] == 0, df['BMI'].mean(), df['BMI'])"
   ]
  },
  {
   "cell_type": "code",
   "execution_count": 9,
   "id": "f51fbfe7-5662-4732-bfbe-bd1fbdb650b7",
   "metadata": {},
   "outputs": [
    {
     "data": {
      "text/html": [
       "<div>\n",
       "<style scoped>\n",
       "    .dataframe tbody tr th:only-of-type {\n",
       "        vertical-align: middle;\n",
       "    }\n",
       "\n",
       "    .dataframe tbody tr th {\n",
       "        vertical-align: top;\n",
       "    }\n",
       "\n",
       "    .dataframe thead th {\n",
       "        text-align: right;\n",
       "    }\n",
       "</style>\n",
       "<table border=\"1\" class=\"dataframe\">\n",
       "  <thead>\n",
       "    <tr style=\"text-align: right;\">\n",
       "      <th></th>\n",
       "      <th>Pregnancies</th>\n",
       "      <th>SkinThickness</th>\n",
       "      <th>Insulin</th>\n",
       "      <th>DiabetesPedigreeFunction</th>\n",
       "      <th>Age</th>\n",
       "      <th>Outcome</th>\n",
       "      <th>HOMA_IR</th>\n",
       "      <th>BMI_AGE_BOND</th>\n",
       "      <th>Glucose_category_norm</th>\n",
       "      <th>Glucose_category_prediabetes</th>\n",
       "      <th>Glucose_category_diabetes</th>\n",
       "      <th>BMI_category_underweight</th>\n",
       "      <th>BMI_category_norm</th>\n",
       "      <th>BMI_category_overweight</th>\n",
       "      <th>BMI_category_obese</th>\n",
       "      <th>Blood_Pressure_category_norm</th>\n",
       "      <th>Blood_Pressure_category_prehypertension</th>\n",
       "      <th>Blood_Pressure_category_hypertension</th>\n",
       "    </tr>\n",
       "  </thead>\n",
       "  <tbody>\n",
       "    <tr>\n",
       "      <th>0</th>\n",
       "      <td>-0.528766</td>\n",
       "      <td>0.005299</td>\n",
       "      <td>0.015212</td>\n",
       "      <td>-0.490335</td>\n",
       "      <td>-1.035096</td>\n",
       "      <td>0</td>\n",
       "      <td>-0.466783</td>\n",
       "      <td>-0.915001</td>\n",
       "      <td>True</td>\n",
       "      <td>False</td>\n",
       "      <td>False</td>\n",
       "      <td>False</td>\n",
       "      <td>False</td>\n",
       "      <td>False</td>\n",
       "      <td>True</td>\n",
       "      <td>True</td>\n",
       "      <td>False</td>\n",
       "      <td>False</td>\n",
       "    </tr>\n",
       "    <tr>\n",
       "      <th>1</th>\n",
       "      <td>1.611193</td>\n",
       "      <td>-0.550407</td>\n",
       "      <td>0.015212</td>\n",
       "      <td>2.413062</td>\n",
       "      <td>1.485889</td>\n",
       "      <td>1</td>\n",
       "      <td>-0.165841</td>\n",
       "      <td>0.817008</td>\n",
       "      <td>False</td>\n",
       "      <td>True</td>\n",
       "      <td>False</td>\n",
       "      <td>False</td>\n",
       "      <td>False</td>\n",
       "      <td>True</td>\n",
       "      <td>False</td>\n",
       "      <td>False</td>\n",
       "      <td>True</td>\n",
       "      <td>False</td>\n",
       "    </tr>\n",
       "    <tr>\n",
       "      <th>2</th>\n",
       "      <td>-0.834475</td>\n",
       "      <td>-1.154976</td>\n",
       "      <td>-0.878724</td>\n",
       "      <td>0.548713</td>\n",
       "      <td>-0.948166</td>\n",
       "      <td>0</td>\n",
       "      <td>-0.566145</td>\n",
       "      <td>-1.028785</td>\n",
       "      <td>False</td>\n",
       "      <td>False</td>\n",
       "      <td>True</td>\n",
       "      <td>False</td>\n",
       "      <td>False</td>\n",
       "      <td>True</td>\n",
       "      <td>False</td>\n",
       "      <td>True</td>\n",
       "      <td>False</td>\n",
       "      <td>False</td>\n",
       "    </tr>\n",
       "    <tr>\n",
       "      <th>3</th>\n",
       "      <td>-1.140183</td>\n",
       "      <td>0.005299</td>\n",
       "      <td>0.015212</td>\n",
       "      <td>-0.638770</td>\n",
       "      <td>2.789848</td>\n",
       "      <td>0</td>\n",
       "      <td>0.360808</td>\n",
       "      <td>0.849012</td>\n",
       "      <td>False</td>\n",
       "      <td>False</td>\n",
       "      <td>True</td>\n",
       "      <td>False</td>\n",
       "      <td>True</td>\n",
       "      <td>False</td>\n",
       "      <td>False</td>\n",
       "      <td>True</td>\n",
       "      <td>False</td>\n",
       "      <td>False</td>\n",
       "    </tr>\n",
       "    <tr>\n",
       "      <th>4</th>\n",
       "      <td>0.694068</td>\n",
       "      <td>1.021472</td>\n",
       "      <td>2.718062</td>\n",
       "      <td>-0.686270</td>\n",
       "      <td>1.138167</td>\n",
       "      <td>1</td>\n",
       "      <td>2.083261</td>\n",
       "      <td>2.512501</td>\n",
       "      <td>False</td>\n",
       "      <td>False</td>\n",
       "      <td>True</td>\n",
       "      <td>False</td>\n",
       "      <td>False</td>\n",
       "      <td>False</td>\n",
       "      <td>True</td>\n",
       "      <td>False</td>\n",
       "      <td>True</td>\n",
       "      <td>False</td>\n",
       "    </tr>\n",
       "  </tbody>\n",
       "</table>\n",
       "</div>"
      ],
      "text/plain": [
       "   Pregnancies  SkinThickness   Insulin  DiabetesPedigreeFunction       Age  \\\n",
       "0    -0.528766       0.005299  0.015212                 -0.490335 -1.035096   \n",
       "1     1.611193      -0.550407  0.015212                  2.413062  1.485889   \n",
       "2    -0.834475      -1.154976 -0.878724                  0.548713 -0.948166   \n",
       "3    -1.140183       0.005299  0.015212                 -0.638770  2.789848   \n",
       "4     0.694068       1.021472  2.718062                 -0.686270  1.138167   \n",
       "\n",
       "   Outcome   HOMA_IR  BMI_AGE_BOND  Glucose_category_norm  \\\n",
       "0        0 -0.466783     -0.915001                   True   \n",
       "1        1 -0.165841      0.817008                  False   \n",
       "2        0 -0.566145     -1.028785                  False   \n",
       "3        0  0.360808      0.849012                  False   \n",
       "4        1  2.083261      2.512501                  False   \n",
       "\n",
       "   Glucose_category_prediabetes  Glucose_category_diabetes  \\\n",
       "0                         False                      False   \n",
       "1                          True                      False   \n",
       "2                         False                       True   \n",
       "3                         False                       True   \n",
       "4                         False                       True   \n",
       "\n",
       "   BMI_category_underweight  BMI_category_norm  BMI_category_overweight  \\\n",
       "0                     False              False                    False   \n",
       "1                     False              False                     True   \n",
       "2                     False              False                     True   \n",
       "3                     False               True                    False   \n",
       "4                     False              False                    False   \n",
       "\n",
       "   BMI_category_obese  Blood_Pressure_category_norm  \\\n",
       "0                True                          True   \n",
       "1               False                         False   \n",
       "2               False                          True   \n",
       "3               False                          True   \n",
       "4                True                         False   \n",
       "\n",
       "   Blood_Pressure_category_prehypertension  \\\n",
       "0                                    False   \n",
       "1                                     True   \n",
       "2                                    False   \n",
       "3                                    False   \n",
       "4                                     True   \n",
       "\n",
       "   Blood_Pressure_category_hypertension  \n",
       "0                                 False  \n",
       "1                                 False  \n",
       "2                                 False  \n",
       "3                                 False  \n",
       "4                                 False  "
      ]
     },
     "execution_count": 9,
     "metadata": {},
     "output_type": "execute_result"
    }
   ],
   "source": [
    "df.head()"
   ]
  },
  {
   "cell_type": "markdown",
   "id": "c44bfac2-8f7a-46a6-bc01-9e5f6025ecb1",
   "metadata": {},
   "source": [
    "### Реализация логистической регресии"
   ]
  },
  {
   "cell_type": "code",
   "execution_count": 11,
   "id": "f84b7f32-415e-4afc-b246-aad513cbb6d5",
   "metadata": {},
   "outputs": [],
   "source": [
    "def sigmoid(z):\n",
    "    z = np.asarray(z, dtype=float)\n",
    "    z = np.clip(z, -500, 500)\n",
    "    return 1 / (1 + np.exp(-z))"
   ]
  },
  {
   "cell_type": "code",
   "execution_count": 12,
   "id": "53cd613d-7e87-49d8-abf3-fbccb7637aaa",
   "metadata": {},
   "outputs": [],
   "source": [
    "def binary_cross_entropy_vectorized(p_true, p_pred):\n",
    "    \"\"\"\n",
    "    Векторизованная бинарная кросс-энтропия\n",
    "    p_true: one-hot encoded метки [[0,1], [1,0], ...]\n",
    "    p_pred: предсказанные вероятности [0.8, 0.2, ...]\n",
    "    \"\"\"\n",
    "    # Защита от log(0)\n",
    "    p_pred = np.clip(p_pred, 1e-15, 1 - 1e-15)\n",
    "    \n",
    "    # Векторизованное вычисление\n",
    "    # p_true[i][1] соответствует y=1, p_true[i][0] соответствует y=0\n",
    "    loss = -np.mean(p_true[:, 1] * np.log(p_pred) + p_true[:, 0] * np.log(1 - p_pred))\n",
    "    \n",
    "    return loss"
   ]
  },
  {
   "cell_type": "code",
   "execution_count": 13,
   "id": "6e72d72b-714a-444f-8a88-0c0c06e2bf16",
   "metadata": {},
   "outputs": [],
   "source": [
    "X_train = np.array(df.drop('Outcome', axis=1))\n",
    "Y_train = np.array(df['Outcome'])"
   ]
  },
  {
   "cell_type": "code",
   "execution_count": 39,
   "id": "749eabf7-66d1-4a0b-bf55-788b20a20aff",
   "metadata": {},
   "outputs": [],
   "source": [
    "# инициализация весов\n",
    "w = np.ones(X_train.shape[-1])\n",
    "b = 0.01\n",
    "learning_rate = 0.7\n",
    "k = 612"
   ]
  },
  {
   "cell_type": "code",
   "execution_count": 40,
   "id": "3ed0ba14-b8fe-4c02-9c60-a3f3e30133ad",
   "metadata": {},
   "outputs": [
    {
     "name": "stdout",
     "output_type": "stream",
     "text": [
      "1.7094167492063734\n",
      "0.47225265719318077\n",
      "0.4706398604964984\n",
      "0.47042796848750024\n",
      "0.4679463603341514\n",
      "0.4691718807195346\n",
      "0.469877531455832\n"
     ]
    }
   ],
   "source": [
    "for epoch in range(700):\n",
    "    # выборка для SGD\n",
    "    rand_index = np.random.choice(X_train.shape[0], k, replace=False)\n",
    "    sample_X = X_train[rand_index]\n",
    "    sample_Y = Y_train[rand_index]\n",
    "\n",
    "    # подсчет вероятности\n",
    "    linear_model = w @ sample_X.T + b\n",
    "    pred = sigmoid(linear_model)\n",
    "\n",
    "    # потери\n",
    "    y_one_hot = np.eye(2)[sample_Y]\n",
    "    loss = binary_cross_entropy_vectorized(y_one_hot, pred)\n",
    "    if epoch % 100 == 0: print(loss)\n",
    "\n",
    "    # веса\n",
    "    dz = pred - sample_Y\n",
    "    dw = (1 / k) * np.dot(sample_X.T, dz)\n",
    "    db = (1 / k) * np.sum(dz)\n",
    "\n",
    "    # Преобразуйте dw и db к numpy array с правильным типом\n",
    "    w -= learning_rate * np.asarray(dw, dtype=float)\n",
    "    b -= learning_rate * np.asarray(db, dtype=float)"
   ]
  },
  {
   "cell_type": "code",
   "execution_count": 41,
   "id": "d70c3474-3f99-45c9-973b-946f70a1261e",
   "metadata": {},
   "outputs": [
    {
     "data": {
      "text/plain": [
       "np.float64(0.7752442996742671)"
      ]
     },
     "execution_count": 41,
     "metadata": {},
     "output_type": "execute_result"
    }
   ],
   "source": [
    "prediction = np.where(sigmoid(w @ X_train.T + b) > 0.5, 1, 0)\n",
    "np.mean(prediction == Y_train)"
   ]
  },
  {
   "cell_type": "code",
   "execution_count": 42,
   "id": "3ff76133-9996-4ea8-b109-6941d40e604d",
   "metadata": {},
   "outputs": [],
   "source": [
    "df_test = pd.read_csv(r\"C:\\Users\\allek\\OneDrive\\Рабочий стол\\summer_train\\test_data.csv\")\n",
    "X_test = np.array(df_test.drop('Outcome', axis=1))\n",
    "Y_test = np.array(df_test['Outcome'])"
   ]
  },
  {
   "cell_type": "code",
   "execution_count": 43,
   "id": "d43fd2c8-7bdb-4efd-9c5a-c1d3ed4623ee",
   "metadata": {},
   "outputs": [
    {
     "data": {
      "text/plain": [
       "np.float64(0.7402597402597403)"
      ]
     },
     "execution_count": 43,
     "metadata": {},
     "output_type": "execute_result"
    }
   ],
   "source": [
    "pred_test = np.where(sigmoid(w @ X_test.T + b) > 0.5, 1, 0)\n",
    "np.mean(pred_test == Y_test)"
   ]
  },
  {
   "cell_type": "code",
   "execution_count": null,
   "id": "881b1d29-d773-4d47-ab0e-7f0f599c58bc",
   "metadata": {},
   "outputs": [],
   "source": []
  }
 ],
 "metadata": {
  "kernelspec": {
   "display_name": "Python 3 (ipykernel)",
   "language": "python",
   "name": "python3"
  },
  "language_info": {
   "codemirror_mode": {
    "name": "ipython",
    "version": 3
   },
   "file_extension": ".py",
   "mimetype": "text/x-python",
   "name": "python",
   "nbconvert_exporter": "python",
   "pygments_lexer": "ipython3",
   "version": "3.10.11"
  }
 },
 "nbformat": 4,
 "nbformat_minor": 5
}
