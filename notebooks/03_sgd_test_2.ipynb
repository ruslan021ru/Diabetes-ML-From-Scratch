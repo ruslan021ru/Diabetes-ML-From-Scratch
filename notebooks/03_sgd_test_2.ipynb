{
 "cells": [
  {
   "cell_type": "markdown",
   "id": "47178233-d389-463e-9857-f7edeea61365",
   "metadata": {},
   "source": [
    "### Импорт"
   ]
  },
  {
   "cell_type": "code",
   "execution_count": 1,
   "id": "4bcf1d2c-2410-4220-9d80-43fb64151684",
   "metadata": {},
   "outputs": [],
   "source": [
    "# импортируем библиотеки\n",
    "import pandas as pd\n",
    "import numpy as np\n",
    "import matplotlib.pyplot as plt\n",
    "import seaborn as sns\n",
    "from sklearn.model_selection import train_test_split"
   ]
  },
  {
   "cell_type": "code",
   "execution_count": 2,
   "id": "32b26c87-7df9-4b35-a6dd-6ec107ba0588",
   "metadata": {},
   "outputs": [],
   "source": [
    "# импортируем данные\n",
    "df = pd.read_csv(r\"C:\\Users\\allek\\OneDrive\\Рабочий стол\\summer_train\\git_project\\Diabetes-ML-From-Scratch\\raw_data\\diabetes.csv\")"
   ]
  },
  {
   "cell_type": "code",
   "execution_count": 3,
   "id": "85cbac17-5b0f-4281-b580-e6a9f04209a2",
   "metadata": {},
   "outputs": [],
   "source": [
    "import sys\n",
    "import os\n",
    "\n",
    "# Получаем путь к корневой директории проекта (на уровень выше от notebooks/)\n",
    "project_root = os.path.abspath(os.path.join(os.getcwd(), '..'))\n",
    "sys.path.append(project_root)\n",
    "\n",
    "from src.data_processing.preprocessing import DataPreprocessing"
   ]
  },
  {
   "cell_type": "markdown",
   "id": "6c5d0a8c-ce74-40e8-9e31-f8f605bb02cf",
   "metadata": {},
   "source": [
    "### Разделение данных"
   ]
  },
  {
   "cell_type": "code",
   "execution_count": 4,
   "id": "d1d5117b-2f92-4668-8222-78b106c84ed5",
   "metadata": {},
   "outputs": [],
   "source": [
    "# Предположим, что целевая переменная называется 'target'\n",
    "X = df.drop('Outcome', axis=1)  # Признаки\n",
    "y = df['Outcome']               # Целевая переменная\n",
    "\n",
    "# Разделение данных (80% train, 20% test)\n",
    "X_train, X_test, Y_train, Y_test = train_test_split(\n",
    "    X, y, \n",
    "    test_size=0.3, \n",
    "    random_state=22,  # для воспроизводимости\n",
    "    stratify=y        # для сохранения распределения целевой переменной\n",
    ")"
   ]
  },
  {
   "cell_type": "code",
   "execution_count": 5,
   "id": "925e9d63-5330-4b7a-b450-0fc6e773545f",
   "metadata": {},
   "outputs": [
    {
     "data": {
      "text/html": [
       "<div>\n",
       "<style scoped>\n",
       "    .dataframe tbody tr th:only-of-type {\n",
       "        vertical-align: middle;\n",
       "    }\n",
       "\n",
       "    .dataframe tbody tr th {\n",
       "        vertical-align: top;\n",
       "    }\n",
       "\n",
       "    .dataframe thead th {\n",
       "        text-align: right;\n",
       "    }\n",
       "</style>\n",
       "<table border=\"1\" class=\"dataframe\">\n",
       "  <thead>\n",
       "    <tr style=\"text-align: right;\">\n",
       "      <th></th>\n",
       "      <th>Pregnancies</th>\n",
       "      <th>Glucose</th>\n",
       "      <th>BloodPressure</th>\n",
       "      <th>SkinThickness</th>\n",
       "      <th>Insulin</th>\n",
       "      <th>BMI</th>\n",
       "      <th>DiabetesPedigreeFunction</th>\n",
       "      <th>Age</th>\n",
       "    </tr>\n",
       "  </thead>\n",
       "  <tbody>\n",
       "    <tr>\n",
       "      <th>395</th>\n",
       "      <td>2</td>\n",
       "      <td>127</td>\n",
       "      <td>58</td>\n",
       "      <td>24</td>\n",
       "      <td>275</td>\n",
       "      <td>27.7</td>\n",
       "      <td>1.600</td>\n",
       "      <td>25</td>\n",
       "    </tr>\n",
       "    <tr>\n",
       "      <th>158</th>\n",
       "      <td>2</td>\n",
       "      <td>88</td>\n",
       "      <td>74</td>\n",
       "      <td>19</td>\n",
       "      <td>53</td>\n",
       "      <td>29.0</td>\n",
       "      <td>0.229</td>\n",
       "      <td>22</td>\n",
       "    </tr>\n",
       "    <tr>\n",
       "      <th>246</th>\n",
       "      <td>10</td>\n",
       "      <td>122</td>\n",
       "      <td>68</td>\n",
       "      <td>0</td>\n",
       "      <td>0</td>\n",
       "      <td>31.2</td>\n",
       "      <td>0.258</td>\n",
       "      <td>41</td>\n",
       "    </tr>\n",
       "    <tr>\n",
       "      <th>18</th>\n",
       "      <td>1</td>\n",
       "      <td>103</td>\n",
       "      <td>30</td>\n",
       "      <td>38</td>\n",
       "      <td>83</td>\n",
       "      <td>43.3</td>\n",
       "      <td>0.183</td>\n",
       "      <td>33</td>\n",
       "    </tr>\n",
       "    <tr>\n",
       "      <th>577</th>\n",
       "      <td>2</td>\n",
       "      <td>118</td>\n",
       "      <td>80</td>\n",
       "      <td>0</td>\n",
       "      <td>0</td>\n",
       "      <td>42.9</td>\n",
       "      <td>0.693</td>\n",
       "      <td>21</td>\n",
       "    </tr>\n",
       "  </tbody>\n",
       "</table>\n",
       "</div>"
      ],
      "text/plain": [
       "     Pregnancies  Glucose  BloodPressure  SkinThickness  Insulin   BMI  \\\n",
       "395            2      127             58             24      275  27.7   \n",
       "158            2       88             74             19       53  29.0   \n",
       "246           10      122             68              0        0  31.2   \n",
       "18             1      103             30             38       83  43.3   \n",
       "577            2      118             80              0        0  42.9   \n",
       "\n",
       "     DiabetesPedigreeFunction  Age  \n",
       "395                     1.600   25  \n",
       "158                     0.229   22  \n",
       "246                     0.258   41  \n",
       "18                      0.183   33  \n",
       "577                     0.693   21  "
      ]
     },
     "execution_count": 5,
     "metadata": {},
     "output_type": "execute_result"
    }
   ],
   "source": [
    "X_train.head()"
   ]
  },
  {
   "cell_type": "code",
   "execution_count": 6,
   "id": "ddc7c219-841d-4218-80ad-3092e5ef7ec8",
   "metadata": {},
   "outputs": [],
   "source": [
    "Preprocessing = DataPreprocessing()\n",
    "X_train, X_test = Preprocessing.fit_transform(X_train, X_test)"
   ]
  },
  {
   "cell_type": "code",
   "execution_count": 7,
   "id": "ffed7e7c-326f-408e-858f-9ea818c333ce",
   "metadata": {},
   "outputs": [],
   "source": [
    "X_train = np.array(X_train)\n",
    "X_test = np.array(X_test)\n",
    "y_pred = np.array(Y_train)\n",
    "y_test = np.array(Y_test)"
   ]
  },
  {
   "cell_type": "code",
   "execution_count": 8,
   "id": "1dba28a4-6a7c-4232-b82f-1d5e816863f0",
   "metadata": {},
   "outputs": [],
   "source": [
    "def sigmoid(z):\n",
    "    z = np.asarray(z, dtype=float)\n",
    "    z = np.clip(z, -500, 500)\n",
    "    return 1 / (1 + np.exp(-z))\n",
    "\n",
    "def binary_cross_entropy_vectorized(p_true, p_pred):\n",
    "    \"\"\"\n",
    "    Векторизованная бинарная кросс-энтропия\n",
    "    p_true: one-hot encoded метки [[0,1], [1,0], ...]\n",
    "    p_pred: предсказанные вероятности [0.8, 0.2, ...]\n",
    "    \"\"\"\n",
    "    # Защита от log(0)\n",
    "    p_pred = np.clip(p_pred, 1e-15, 1 - 1e-15)\n",
    "    \n",
    "    # Векторизованное вычисление\n",
    "    # p_true[i][1] соответствует y=1, p_true[i][0] соответствует y=0\n",
    "    loss = -np.mean(p_true[:, 1] * np.log(p_pred) + p_true[:, 0] * np.log(1 - p_pred))\n",
    "    \n",
    "    return loss\n",
    "\n"
   ]
  },
  {
   "cell_type": "code",
   "execution_count": 9,
   "id": "210c00bd-99fb-4f9a-8fa8-3142c5cd5ae4",
   "metadata": {},
   "outputs": [
    {
     "data": {
      "text/plain": [
       "array([0.1, 0.1, 0.1, 0.1, 0.1, 0.1, 0.1, 0.1, 0.1, 0.1, 0.1, 0.1, 0.1,\n",
       "       0.1])"
      ]
     },
     "execution_count": 9,
     "metadata": {},
     "output_type": "execute_result"
    }
   ],
   "source": [
    "# инициализация весов\n",
    "w = np.full(X_train.shape[-1], 0.1, dtype='float')\n",
    "b = 1\n",
    "learning_rate_w = 0.7\n",
    "learning_rate_b = 0.7\n",
    "k = 530\n",
    "lm_l2 = 0.1\n",
    "w"
   ]
  },
  {
   "cell_type": "code",
   "execution_count": 10,
   "id": "89f007b8-5c90-4e93-885f-08d334be23f4",
   "metadata": {},
   "outputs": [
    {
     "name": "stdout",
     "output_type": "stream",
     "text": [
      "0.9786451233283168\n",
      "0.49183457561764243\n",
      "0.49055730638426365\n",
      "0.49032341935554896\n",
      "0.48702840766484656\n",
      "0.49204381201275066\n",
      "0.4840201313872225\n"
     ]
    },
    {
     "data": {
      "text/plain": [
       "array([ 0.40834708,  0.1331082 , -0.66622012,  0.22557893, -0.24901604,\n",
       "        0.79772422,  0.45971369, -1.31108423, -0.23987401,  0.35277455,\n",
       "       -0.04677463, -1.15665278, -0.27507405,  0.38031778])"
      ]
     },
     "execution_count": 10,
     "metadata": {},
     "output_type": "execute_result"
    }
   ],
   "source": [
    "for epoch in range(700):\n",
    "    # выборка для SGD\n",
    "    rand_index = np.random.choice(X_train.shape[0], k, replace=False)\n",
    "    sample_X = X_train[rand_index]\n",
    "    sample_Y = y_pred[rand_index]\n",
    "\n",
    "    # подсчет вероятности\n",
    "    linear_model = w @ sample_X.T + b\n",
    "    pred = sigmoid(linear_model)\n",
    "\n",
    "    # потери\n",
    "    y_one_hot = np.eye(2)[sample_Y]\n",
    "    loss = binary_cross_entropy_vectorized(y_one_hot, pred)\n",
    "    if epoch % 100 == 0: print(loss)\n",
    "\n",
    "    # веса\n",
    "    dz = pred - sample_Y\n",
    "    dw = (1 / k) * np.dot(sample_X.T, dz)\n",
    "    db = (1 / k) * np.sum(dz)\n",
    "\n",
    "    # Преобразуйте dw и db к numpy array с правильным типом\n",
    "    w -= learning_rate_w * np.asarray(dw, dtype=float)\n",
    "    b -= learning_rate_b * np.asarray(db, dtype=float)\n",
    "\n",
    "w"
   ]
  },
  {
   "cell_type": "code",
   "execution_count": 11,
   "id": "b77fb722-168c-4ab4-ac34-28212c661154",
   "metadata": {},
   "outputs": [
    {
     "data": {
      "text/plain": [
       "np.float64(0.750465549348231)"
      ]
     },
     "execution_count": 11,
     "metadata": {},
     "output_type": "execute_result"
    }
   ],
   "source": [
    "prediction = np.where(sigmoid(w @ X_train.T + b) > 0.5, 1, 0)\n",
    "np.mean(prediction == y_pred)"
   ]
  },
  {
   "cell_type": "code",
   "execution_count": 12,
   "id": "80da2029-c475-4136-824f-65d06e26ec73",
   "metadata": {},
   "outputs": [
    {
     "data": {
      "text/plain": [
       "np.float64(0.7922077922077922)"
      ]
     },
     "execution_count": 12,
     "metadata": {},
     "output_type": "execute_result"
    }
   ],
   "source": [
    "pred_test = np.where(sigmoid(w @ X_test.T + b) > 0.5, 1, 0)\n",
    "np.mean(pred_test == y_test)"
   ]
  },
  {
   "cell_type": "code",
   "execution_count": 13,
   "id": "701864ca-eada-4dce-a8c6-659b53a89d31",
   "metadata": {},
   "outputs": [],
   "source": [
    "y_pred = pred_test"
   ]
  },
  {
   "cell_type": "code",
   "execution_count": 14,
   "id": "8b58c505-aca3-4710-a823-47dc622e5a8e",
   "metadata": {},
   "outputs": [
    {
     "name": "stdout",
     "output_type": "stream",
     "text": [
      "Accuracy: 0.7922\n",
      "Precision: 0.7089\n",
      "Recall: 0.6914\n",
      "F1-score: 0.7000\n",
      "\n",
      "Confusion Matrix:\n",
      "[[127  23]\n",
      " [ 25  56]]\n",
      "\n",
      "Classification Report:\n",
      "              precision    recall  f1-score   support\n",
      "\n",
      "           0       0.84      0.85      0.84       150\n",
      "           1       0.71      0.69      0.70        81\n",
      "\n",
      "    accuracy                           0.79       231\n",
      "   macro avg       0.77      0.77      0.77       231\n",
      "weighted avg       0.79      0.79      0.79       231\n",
      "\n"
     ]
    }
   ],
   "source": [
    "from sklearn.metrics import accuracy_score, precision_score, recall_score, f1_score, confusion_matrix, classification_report\n",
    "\n",
    "# Для бинарной классификации\n",
    "accuracy = accuracy_score(y_test, y_pred)\n",
    "precision = precision_score(y_test, y_pred)\n",
    "recall = recall_score(y_test, y_pred)\n",
    "f1 = f1_score(y_test, y_pred)\n",
    "\n",
    "print(f\"Accuracy: {accuracy:.4f}\")\n",
    "print(f\"Precision: {precision:.4f}\")\n",
    "print(f\"Recall: {recall:.4f}\")\n",
    "print(f\"F1-score: {f1:.4f}\")\n",
    "\n",
    "# Матрица ошибок\n",
    "print(\"\\nConfusion Matrix:\")\n",
    "print(confusion_matrix(y_test, y_pred))\n",
    "\n",
    "# Полный отчет\n",
    "print(\"\\nClassification Report:\")\n",
    "print(classification_report(y_test, y_pred))"
   ]
  },
  {
   "cell_type": "code",
   "execution_count": 15,
   "id": "3e039a08-0462-4f93-83cf-a3dd0cdfc5ed",
   "metadata": {},
   "outputs": [
    {
     "data": {
      "text/plain": [
       "np.float64(0.7965367965367965)"
      ]
     },
     "execution_count": 15,
     "metadata": {},
     "output_type": "execute_result"
    }
   ],
   "source": [
    "from sklearn import svm\n",
    "clf = svm.SVC(kernel='rbf', gamma=0.01, C=100)\n",
    "clf.fit(X_train, Y_train)\n",
    "predict = clf.predict(X_test)\n",
    "acc = np.mean(predict == Y_test)\n",
    "acc"
   ]
  },
  {
   "cell_type": "code",
   "execution_count": 17,
   "id": "d7ebf739-1312-4e02-9a6b-28924be515f1",
   "metadata": {},
   "outputs": [
    {
     "name": "stdout",
     "output_type": "stream",
     "text": [
      "Accuracy: 0.7965\n",
      "Precision: 0.7237\n",
      "Recall: 0.6790\n",
      "F1-score: 0.7006\n",
      "              precision    recall  f1-score   support\n",
      "\n",
      "           0       0.83      0.86      0.85       150\n",
      "           1       0.72      0.68      0.70        81\n",
      "\n",
      "    accuracy                           0.80       231\n",
      "   macro avg       0.78      0.77      0.77       231\n",
      "weighted avg       0.79      0.80      0.79       231\n",
      "\n"
     ]
    }
   ],
   "source": [
    "y_pred = predict\n",
    "\n",
    "accuracy = accuracy_score(y_test, y_pred)\n",
    "precision = precision_score(y_test, y_pred)\n",
    "recall = recall_score(y_test, y_pred)\n",
    "f1 = f1_score(y_test, y_pred)\n",
    "\n",
    "print(f\"Accuracy: {accuracy:.4f}\")\n",
    "print(f\"Precision: {precision:.4f}\")\n",
    "print(f\"Recall: {recall:.4f}\")\n",
    "print(f\"F1-score: {f1:.4f}\")\n",
    "\n",
    "print(classification_report(y_test, y_pred))"
   ]
  }
 ],
 "metadata": {
  "kernelspec": {
   "display_name": "Python 3 (ipykernel)",
   "language": "python",
   "name": "python3"
  },
  "language_info": {
   "codemirror_mode": {
    "name": "ipython",
    "version": 3
   },
   "file_extension": ".py",
   "mimetype": "text/x-python",
   "name": "python",
   "nbconvert_exporter": "python",
   "pygments_lexer": "ipython3",
   "version": "3.10.11"
  }
 },
 "nbformat": 4,
 "nbformat_minor": 5
}
